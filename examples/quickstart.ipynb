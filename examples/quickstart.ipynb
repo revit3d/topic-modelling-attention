{
 "cells": [
  {
   "cell_type": "code",
   "execution_count": 1,
   "metadata": {},
   "outputs": [],
   "source": [
    "import jax.numpy as jnp\n",
    "\n",
    "from sklearn.datasets import fetch_20newsgroups\n",
    "\n",
    "import matplotlib.pyplot as plt\n",
    "import seaborn as sns\n",
    "\n",
    "from cartm.model import ContextTopicModel\n",
    "from cartm.preprocessing import DatasetPreprocessor"
   ]
  },
  {
   "cell_type": "markdown",
   "metadata": {},
   "source": [
    "This example will guide you through the basic interaction with the model."
   ]
  },
  {
   "cell_type": "markdown",
   "metadata": {},
   "source": [
    "## Data preprocessing\n",
    "\n",
    "First, let's download a sample dataset and preprocess it with `DatasetPreprocessor`."
   ]
  },
  {
   "cell_type": "code",
   "execution_count": 2,
   "metadata": {},
   "outputs": [
    {
     "name": "stdout",
     "output_type": "stream",
     "text": [
      "Total number of documents in corpus: 18846\n",
      "Total number of words in corpus: 5937230\n"
     ]
    }
   ],
   "source": [
    "data = fetch_20newsgroups(data_home='./data/', subset='all').data\n",
    "print(f'Total number of documents in corpus: {len(data)}')\n",
    "print(f'Total number of words in corpus: {sum([len(doc.split(' ')) for doc in data])}')"
   ]
  },
  {
   "cell_type": "code",
   "execution_count": 3,
   "metadata": {},
   "outputs": [
    {
     "name": "stdout",
     "output_type": "stream",
     "text": [
      "Total number of document boundaries in preprocessed corpus: 18847\n",
      "Total number of tokenized words in preprocessed corpus: 3450212\n"
     ]
    }
   ],
   "source": [
    "preprocessor = DatasetPreprocessor()\n",
    "tokenized_data, document_bounds = preprocessor.fit_transform(data)\n",
    "print(f'Total number of document boundaries in preprocessed corpus: {len(document_bounds)}')\n",
    "print(f'Total number of tokenized words in preprocessed corpus: {len(tokenized_data)}')"
   ]
  },
  {
   "cell_type": "markdown",
   "metadata": {},
   "source": [
    "The `DatasetPreprocessor` class handles the filtering and tokenizing of the raw data. Its method `fit_transform` learns the vocabulary of the passed corpus of documents and returns tokenized words from corpus as the first return value, and document bounds as the second return value.\n",
    "\n",
    "By default, `DatasetPreprocessor` removes stopwords, digits and special characters, therefore the total number of tokenized words is less than the number of words in raw corpus. Document boundaries are at the beginning and ending of the document, therefore the number of boundaries is [number_of_documents] + 1.\n",
    "\n",
    "The returned values from `fit_transform` have jax.numpy.ndarray type, so you can work with them like a normal arrays."
   ]
  },
  {
   "cell_type": "code",
   "execution_count": 4,
   "metadata": {},
   "outputs": [
    {
     "name": "stdout",
     "output_type": "stream",
     "text": [
      "Number of unique words in the preprocessed corpus: 107672\n"
     ]
    }
   ],
   "source": [
    "print(f'Number of unique words in the preprocessed corpus: {jnp.max(tokenized_data)}')"
   ]
  },
  {
   "cell_type": "code",
   "execution_count": 5,
   "metadata": {},
   "outputs": [
    {
     "data": {
      "image/png": "[encoded data removed]",
      "text/plain": [
       "<Figure size 640x480 with 1 Axes>"
      ]
     },
     "metadata": {},
     "output_type": "display_data"
    }
   ],
   "source": [
    "sns.set_theme()\n",
    "\n",
    "plt.hist(tokenized_data, bins=100)\n",
    "\n",
    "plt.xlabel('Token id')\n",
    "plt.ylabel('Number of occurences')\n",
    "plt.title('Distribution of unique tokens in preprocessed corpus')\n",
    "plt.yscale('log')\n",
    "plt.show()"
   ]
  },
  {
   "cell_type": "markdown",
   "metadata": {},
   "source": [
    "### Accessing vocabulary\n",
    "\n",
    "You can also access mapping of words to tokens after fitting the preprocessor with data."
   ]
  },
  {
   "cell_type": "code",
   "execution_count": 6,
   "metadata": {},
   "outputs": [
    {
     "name": "stdout",
     "output_type": "stream",
     "text": [
      "mamatha: 0\n",
      "devineni: 1\n",
      "ratnam: 2\n",
      "mr: 3\n",
      "andrew: 4\n",
      "cmu: 5\n",
      "edu: 6\n",
      "subject: 7\n",
      "pen: 8\n",
      "fan: 9\n",
      "reaction: 10\n"
     ]
    }
   ],
   "source": [
    "vocabulary = preprocessor.vocabulary\n",
    "\n",
    "for i, (word, token) in enumerate(vocabulary.items()):\n",
    "    print(f'{word}: {token}')\n",
    "    if i == 10:\n",
    "        break"
   ]
  },
  {
   "cell_type": "markdown",
   "metadata": {},
   "source": [
    "## Model training"
   ]
  },
  {
   "cell_type": "markdown",
   "metadata": {},
   "source": [
    "Having the data preprocessed with `DatasetPreprocessor`, we can fit out model pretty straighforwardly.\n",
    "\n",
    "Please note that calling `fit` method multiple times in one model will discard all results of the previous training."
   ]
  },
  {
   "cell_type": "code",
   "execution_count": 7,
   "metadata": {},
   "outputs": [
    {
     "name": "stdout",
     "output_type": "stream",
     "text": [
      "Iteration [1/1000], phi update diff norm: 0.1297\n",
      "Iteration [2/1000], phi update diff norm: 0.0264\n",
      "Iteration [3/1000], phi update diff norm: 0.0386\n",
      "Iteration [4/1000], phi update diff norm: 0.0521\n",
      "Iteration [5/1000], phi update diff norm: 0.0535\n",
      "Iteration [6/1000], phi update diff norm: 0.0409\n",
      "Iteration [7/1000], phi update diff norm: 0.0418\n",
      "Iteration [8/1000], phi update diff norm: 0.0481\n",
      "Iteration [9/1000], phi update diff norm: 0.0577\n",
      "Iteration [10/1000], phi update diff norm: 0.0701\n",
      "Iteration [11/1000], phi update diff norm: 0.0788\n",
      "Iteration [12/1000], phi update diff norm: 0.0738\n",
      "Iteration [13/1000], phi update diff norm: 0.0523\n",
      "Iteration [14/1000], phi update diff norm: 0.0293\n",
      "Iteration [15/1000], phi update diff norm: 0.0169\n",
      "Iteration [16/1000], phi update diff norm: 0.0118\n",
      "Iteration [17/1000], phi update diff norm: 0.0092\n",
      "Iteration [18/1000], phi update diff norm: 0.0077\n",
      "Iteration [19/1000], phi update diff norm: 0.0069\n",
      "Iteration [20/1000], phi update diff norm: 0.0060\n",
      "Iteration [21/1000], phi update diff norm: 0.0055\n",
      "Iteration [22/1000], phi update diff norm: 0.0050\n",
      "Iteration [23/1000], phi update diff norm: 0.0046\n",
      "Iteration [24/1000], phi update diff norm: 0.0043\n",
      "Iteration [25/1000], phi update diff norm: 0.0041\n",
      "Iteration [26/1000], phi update diff norm: 0.0039\n",
      "Iteration [27/1000], phi update diff norm: 0.0038\n",
      "Iteration [28/1000], phi update diff norm: 0.0037\n",
      "Iteration [29/1000], phi update diff norm: 0.0036\n",
      "Iteration [30/1000], phi update diff norm: 0.0035\n",
      "Iteration [31/1000], phi update diff norm: 0.0033\n",
      "Iteration [32/1000], phi update diff norm: 0.0031\n",
      "Iteration [33/1000], phi update diff norm: 0.0029\n",
      "Iteration [34/1000], phi update diff norm: 0.0027\n",
      "Iteration [35/1000], phi update diff norm: 0.0025\n",
      "Iteration [36/1000], phi update diff norm: 0.0023\n",
      "Iteration [37/1000], phi update diff norm: 0.0021\n",
      "Iteration [38/1000], phi update diff norm: 0.0019\n",
      "Iteration [39/1000], phi update diff norm: 0.0018\n",
      "Iteration [40/1000], phi update diff norm: 0.0017\n",
      "Iteration [41/1000], phi update diff norm: 0.0016\n",
      "Iteration [42/1000], phi update diff norm: 0.0015\n",
      "Iteration [43/1000], phi update diff norm: 0.0014\n",
      "Iteration [44/1000], phi update diff norm: 0.0014\n",
      "Iteration [45/1000], phi update diff norm: 0.0013\n",
      "Iteration [46/1000], phi update diff norm: 0.0013\n",
      "Iteration [47/1000], phi update diff norm: 0.0012\n",
      "Iteration [48/1000], phi update diff norm: 0.0012\n",
      "Iteration [49/1000], phi update diff norm: 0.0011\n",
      "Iteration [50/1000], phi update diff norm: 0.0011\n",
      "Iteration [51/1000], phi update diff norm: 0.0011\n",
      "Iteration [52/1000], phi update diff norm: 0.0011\n",
      "Iteration [53/1000], phi update diff norm: 0.0010\n",
      "Iteration [54/1000], phi update diff norm: 0.0010\n",
      "Iteration [55/1000], phi update diff norm: 0.0010\n",
      "Iteration [56/1000], phi update diff norm: 0.0010\n"
     ]
    }
   ],
   "source": [
    "topic_model = ContextTopicModel(\n",
    "    vocab_size=len(preprocessor.vocabulary),\n",
    "    ctx_len=10,\n",
    ")\n",
    "\n",
    "topic_model.fit(\n",
    "    data=tokenized_data,\n",
    "    ctx_bounds=document_bounds,\n",
    "    verbose=2,\n",
    "    seed=42,\n",
    ")"
   ]
  },
  {
   "cell_type": "markdown",
   "metadata": {},
   "source": [
    "The model training stops because the update diff norm becomes too low. This means that the model has converged. You can modify the convergence threshold and max number of iterations."
   ]
  },
  {
   "cell_type": "code",
   "execution_count": 8,
   "metadata": {},
   "outputs": [
    {
     "name": "stdout",
     "output_type": "stream",
     "text": [
      "Iteration [1/1000], phi update diff norm: 0.1297\n",
      "Iteration [2/1000], phi update diff norm: 0.0264\n",
      "Iteration [3/1000], phi update diff norm: 0.0386\n",
      "Iteration [4/1000], phi update diff norm: 0.0521\n",
      "Iteration [5/1000], phi update diff norm: 0.0535\n",
      "Iteration [6/1000], phi update diff norm: 0.0409\n",
      "Iteration [7/1000], phi update diff norm: 0.0418\n",
      "Iteration [8/1000], phi update diff norm: 0.0481\n",
      "Iteration [9/1000], phi update diff norm: 0.0577\n",
      "Iteration [10/1000], phi update diff norm: 0.0701\n",
      "Iteration [11/1000], phi update diff norm: 0.0788\n",
      "Iteration [12/1000], phi update diff norm: 0.0738\n",
      "Iteration [13/1000], phi update diff norm: 0.0523\n",
      "Iteration [14/1000], phi update diff norm: 0.0293\n",
      "Iteration [15/1000], phi update diff norm: 0.0169\n",
      "Iteration [16/1000], phi update diff norm: 0.0118\n",
      "Iteration [17/1000], phi update diff norm: 0.0092\n"
     ]
    }
   ],
   "source": [
    "topic_model_tol = ContextTopicModel(\n",
    "    vocab_size=len(preprocessor.vocabulary),\n",
    "    ctx_len=10,\n",
    ")\n",
    "\n",
    "topic_model_tol.fit(\n",
    "    data=tokenized_data,\n",
    "    ctx_bounds=document_bounds,\n",
    "    tol=0.01,\n",
    "    verbose=2,\n",
    "    seed=42,\n",
    ")"
   ]
  },
  {
   "cell_type": "code",
   "execution_count": 9,
   "metadata": {},
   "outputs": [
    {
     "name": "stdout",
     "output_type": "stream",
     "text": [
      "Iteration [1/10], phi update diff norm: 0.1297\n",
      "Iteration [2/10], phi update diff norm: 0.0264\n",
      "Iteration [3/10], phi update diff norm: 0.0386\n",
      "Iteration [4/10], phi update diff norm: 0.0521\n",
      "Iteration [5/10], phi update diff norm: 0.0535\n",
      "Iteration [6/10], phi update diff norm: 0.0409\n",
      "Iteration [7/10], phi update diff norm: 0.0418\n",
      "Iteration [8/10], phi update diff norm: 0.0481\n",
      "Iteration [9/10], phi update diff norm: 0.0577\n",
      "Iteration [10/10], phi update diff norm: 0.0701\n"
     ]
    }
   ],
   "source": [
    "topic_model_iter = ContextTopicModel(\n",
    "    vocab_size=len(preprocessor.vocabulary),\n",
    "    ctx_len=10,\n",
    ")\n",
    "\n",
    "topic_model_iter.fit(\n",
    "    data=tokenized_data,\n",
    "    ctx_bounds=document_bounds,\n",
    "    max_iter=10,\n",
    "    verbose=2,\n",
    "    seed=42,\n",
    ")"
   ]
  },
  {
   "cell_type": "markdown",
   "metadata": {},
   "source": [
    "You can also modify number of topics and other parameters of the model. Refer to the `fit` funciton docs for more info about model training."
   ]
  },
  {
   "cell_type": "markdown",
   "metadata": {},
   "source": [
    "## Analysis"
   ]
  },
  {
   "cell_type": "markdown",
   "metadata": {},
   "source": [
    "After the model is fitted, you can access its parameters and analyse them."
   ]
  },
  {
   "cell_type": "code",
   "execution_count": 10,
   "metadata": {},
   "outputs": [
    {
     "name": "stdout",
     "output_type": "stream",
     "text": [
      "phi matrix type: <class 'jaxlib.xla_extension.ArrayImpl'>, shape: (107673, 10)\n",
      "n_t array type: <class 'jaxlib.xla_extension.ArrayImpl'>, shape: (10,)\n"
     ]
    }
   ],
   "source": [
    "phi_wt = topic_model.phi  # p(w|t)\n",
    "n_t = topic_model.n_t  # denormalized distribution of topics\n",
    "print(f'phi matrix type: {type(phi_wt)}, shape: {phi_wt.shape}')\n",
    "print(f'n_t array type: {type(n_t)}, shape: {n_t.shape}')"
   ]
  },
  {
   "cell_type": "markdown",
   "metadata": {},
   "source": [
    "### Plot a histogram of a distribution of topics in corpus:"
   ]
  },
  {
   "cell_type": "code",
   "execution_count": 11,
   "metadata": {},
   "outputs": [
    {
     "data": {
      "image/png": "[encoded data removed]",
      "text/plain": [
       "<Figure size 640x480 with 1 Axes>"
      ]
     },
     "metadata": {},
     "output_type": "display_data"
    }
   ],
   "source": [
    "plt.stairs(n_t / n_t.sum(), range(len(n_t) + 1), fill=True)\n",
    "\n",
    "plt.xticks(range(len(n_t)))\n",
    "plt.xlabel('Topic number')\n",
    "plt.ylabel('Density')\n",
    "plt.title('Distribution of 10 topics in corpus')\n",
    "plt.show()"
   ]
  },
  {
   "cell_type": "markdown",
   "metadata": {},
   "source": [
    "### Print top-10 words from each topic:"
   ]
  },
  {
   "cell_type": "code",
   "execution_count": 12,
   "metadata": {},
   "outputs": [
    {
     "name": "stdout",
     "output_type": "stream",
     "text": [
      "Topic 1: line\torganization\tarticle\tuniversity\tapr\tedu\tdistribution\tstate\tusa\tca\n",
      "\n",
      "Topic 2: ax\tmax\tedu\tfi\tcaltech\tfrank\tuchicago\tkeith\tcco\tmidway\n",
      "\n",
      "Topic 3: god\twa\tchristian\tlaw\tsay\tjesus\tbelieve\tword\treligion\tdoe\n",
      "\n",
      "Topic 4: please\tmail\tanyone\tthanks\tknow\tgov\te\thelp\tnasa\tdoe\n",
      "\n",
      "Topic 5: wa\tpeople\tone\tha\twould\ttime\tyear\tthink\tknow\tlike\n",
      "\n",
      "Topic 6: x\twindow\tfile\tsystem\tprogram\timage\tsoftware\tversion\tuse\tgraphic\n",
      "\n",
      "Topic 7: edu\tc\tr\tw\tg\tf\tp\tb\tq\tv\n",
      "\n",
      "Topic 8: com\tsubject\twrites\tdavid\tedu\tuk\tac\treply\tjohn\tmark\n",
      "\n",
      "Topic 9: would\tmake\tuse\tone\tquestion\tkey\tdoe\tmay\tsystem\talso\n",
      "\n",
      "Topic 10: drive\tgame\tget\tcar\tgo\tback\twa\tone\tpower\tnew\n",
      "\n"
     ]
    }
   ],
   "source": [
    "# find top-10 words with the biggest probability p(w|t) for each topic t\n",
    "topk = jnp.argsort(phi_wt, axis=0, descending=True)[:10, :].T\n",
    "\n",
    "# create mapping token -> word from existing mapping word -> token (vocabulary)\n",
    "reverse_vocab = {value: key for key, value in vocabulary.items()}\n",
    "\n",
    "for topic_idx, t in enumerate(topk):\n",
    "    print(f'Topic {topic_idx + 1}:', '\\t'.join([reverse_vocab[int(idx)] for idx in t]))\n",
    "    print()"
   ]
  }
 ],
 "metadata": {
  "kernelspec": {
   "display_name": "cartm-srLx0cG6-py3.12",
   "language": "python",
   "name": "python3"
  },
  "language_info": {
   "codemirror_mode": {
    "name": "ipython",
    "version": 3
   },
   "file_extension": ".py",
   "mimetype": "text/x-python",
   "name": "python",
   "nbconvert_exporter": "python",
   "pygments_lexer": "ipython3",
   "version": "3.12.5"
  }
 },
 "nbformat": 4,
 "nbformat_minor": 2
}
