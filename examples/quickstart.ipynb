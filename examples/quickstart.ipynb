{
 "cells": [
  {
   "cell_type": "code",
   "execution_count": 1,
   "metadata": {},
   "outputs": [],
   "source": [
    "import pandas as pd\n",
    "import jax.numpy as jnp\n",
    "\n",
    "from sklearn.datasets import fetch_20newsgroups\n",
    "\n",
    "import matplotlib.pyplot as plt\n",
    "import seaborn as sns\n",
    "\n",
    "from cartm.model import ContextTopicModel\n",
    "from cartm.prepocessing import DatasetPreprocessor"
   ]
  },
  {
   "cell_type": "markdown",
   "metadata": {},
   "source": [
    "This example will guide you through the basic interaction with the model.\n",
    "\n",
    "First, let's download a sample dataset and preprocess it with `DatasetPreprocessor`."
   ]
  },
  {
   "cell_type": "code",
   "execution_count": 10,
   "metadata": {},
   "outputs": [
    {
     "name": "stdout",
     "output_type": "stream",
     "text": [
      "Total number of documents in corpus: 18846\n",
      "Total number of words in corpus: 5937230\n"
     ]
    }
   ],
   "source": [
    "data = fetch_20newsgroups(data_home='./data/', subset='all').data\n",
    "print(f'Total number of documents in corpus: {len(data)}')\n",
    "print(f'Total number of words in corpus: {sum([len(doc.split(' ')) for doc in data])}')"
   ]
  },
  {
   "cell_type": "code",
   "execution_count": 11,
   "metadata": {},
   "outputs": [
    {
     "name": "stdout",
     "output_type": "stream",
     "text": [
      "Total number of document boundaries in preprocessed corpus: 18847\n",
      "Total number of tokenized words in preprocessed corpus: 3450212\n"
     ]
    }
   ],
   "source": [
    "preprocessor = DatasetPreprocessor()\n",
    "tokenized_data, document_bounds = preprocessor.fit_transform(data)\n",
    "print(f'Total number of document boundaries in preprocessed corpus: {len(document_bounds)}')\n",
    "print(f'Total number of tokenized words in preprocessed corpus: {len(tokenized_data)}')"
   ]
  },
  {
   "cell_type": "markdown",
   "metadata": {},
   "source": [
    "The `DatasetPreprocessor` class handles the filtering and tokenizing of the raw data. Its method `fit_transform` learns the vocabulary of the passed corpus of documents and returns tokenized words from corpus as the first return value, and document bounds as the second return value.\n",
    "\n",
    "By default, `DatasetPreprocessor` removes stopwords, digits and special characters, therefore the total number of tokenized words is less than the number of words in raw corpus. Document boundaries are at the beginning and ending of the document, therefore the number of boundaries is [number_of_documents] + 1.\n",
    "\n",
    "The returned values from `fit_transform` have jax.numpy.ndarray type, so you can work with them like a normal arrays."
   ]
  },
  {
   "cell_type": "code",
   "execution_count": 13,
   "metadata": {},
   "outputs": [
    {
     "name": "stdout",
     "output_type": "stream",
     "text": [
      "Number of unique words in the preprocessed corpus: 107672\n"
     ]
    }
   ],
   "source": [
    "print(f'Number of unique words in the preprocessed corpus: {jnp.max(tokenized_data)}')"
   ]
  },
  {
   "cell_type": "code",
   "execution_count": 22,
   "metadata": {},
   "outputs": [
    {
     "data": {
      "image/png": "[encoded data removed]",
      "text/plain": [
       "<Figure size 640x480 with 1 Axes>"
      ]
     },
     "metadata": {},
     "output_type": "display_data"
    }
   ],
   "source": [
    "sns.set_theme()\n",
    "\n",
    "plt.hist(tokenized_data, bins=100)\n",
    "\n",
    "plt.xlabel('Token id')\n",
    "plt.ylabel('Number of occurences')\n",
    "plt.title('Distribution of unique tokens in preprocessed corpus')\n",
    "plt.yscale('log')\n",
    "plt.show()"
   ]
  },
  {
   "cell_type": "markdown",
   "metadata": {},
   "source": [
    "You can also access mapping of words to tokens after fitting the preprocessor with data."
   ]
  },
  {
   "cell_type": "code",
   "execution_count": 24,
   "metadata": {},
   "outputs": [
    {
     "name": "stdout",
     "output_type": "stream",
     "text": [
      "mamatha: 0\n",
      "devineni: 1\n",
      "ratnam: 2\n",
      "mr: 3\n",
      "andrew: 4\n",
      "cmu: 5\n",
      "edu: 6\n",
      "subject: 7\n",
      "pen: 8\n",
      "fan: 9\n",
      "reaction: 10\n"
     ]
    }
   ],
   "source": [
    "vocabulary = preprocessor.vocabulary\n",
    "\n",
    "for i, (word, token) in enumerate(vocabulary.items()):\n",
    "    print(f'{word}: {token}')\n",
    "    if i == 10:\n",
    "        break"
   ]
  },
  {
   "cell_type": "markdown",
   "metadata": {},
   "source": [
    "Having the data preprocessed with `DatasetPreprocessor`, we can fit out model pretty straighforwardly."
   ]
  },
  {
   "cell_type": "code",
   "execution_count": 31,
   "metadata": {},
   "outputs": [
    {
     "name": "stdout",
     "output_type": "stream",
     "text": [
      "Iteration [1/1000], phi update diff norm: 0.1312\n",
      "Iteration [2/1000], phi update diff norm: 0.0245\n",
      "Iteration [3/1000], phi update diff norm: 0.0294\n",
      "Iteration [4/1000], phi update diff norm: 0.0341\n",
      "Iteration [5/1000], phi update diff norm: 0.0440\n",
      "Iteration [6/1000], phi update diff norm: 0.0610\n",
      "Iteration [7/1000], phi update diff norm: 0.0668\n",
      "Iteration [8/1000], phi update diff norm: 0.0636\n",
      "Iteration [9/1000], phi update diff norm: 0.0673\n",
      "Iteration [10/1000], phi update diff norm: 0.0618\n",
      "Iteration [11/1000], phi update diff norm: 0.0411\n",
      "Iteration [12/1000], phi update diff norm: 0.0215\n",
      "Iteration [13/1000], phi update diff norm: 0.0148\n",
      "Iteration [14/1000], phi update diff norm: 0.0149\n",
      "Iteration [15/1000], phi update diff norm: 0.0177\n",
      "Iteration [16/1000], phi update diff norm: 0.0238\n",
      "Iteration [17/1000], phi update diff norm: 0.0295\n",
      "Iteration [18/1000], phi update diff norm: 0.0218\n",
      "Iteration [19/1000], phi update diff norm: 0.0109\n",
      "Iteration [20/1000], phi update diff norm: 0.0087\n",
      "Iteration [21/1000], phi update diff norm: 0.0080\n",
      "Iteration [22/1000], phi update diff norm: 0.0075\n",
      "Iteration [23/1000], phi update diff norm: 0.0071\n",
      "Iteration [24/1000], phi update diff norm: 0.0067\n",
      "Iteration [25/1000], phi update diff norm: 0.0065\n",
      "Iteration [26/1000], phi update diff norm: 0.0062\n",
      "Iteration [27/1000], phi update diff norm: 0.0058\n",
      "Iteration [28/1000], phi update diff norm: 0.0054\n",
      "Iteration [29/1000], phi update diff norm: 0.0052\n",
      "Iteration [30/1000], phi update diff norm: 0.0050\n",
      "Iteration [31/1000], phi update diff norm: 0.0049\n",
      "Iteration [32/1000], phi update diff norm: 0.0048\n",
      "Iteration [33/1000], phi update diff norm: 0.0047\n",
      "Iteration [34/1000], phi update diff norm: 0.0046\n",
      "Iteration [35/1000], phi update diff norm: 0.0043\n",
      "Iteration [36/1000], phi update diff norm: 0.0040\n",
      "Iteration [37/1000], phi update diff norm: 0.0036\n",
      "Iteration [38/1000], phi update diff norm: 0.0033\n",
      "Iteration [39/1000], phi update diff norm: 0.0032\n",
      "Iteration [40/1000], phi update diff norm: 0.0031\n",
      "Iteration [41/1000], phi update diff norm: 0.0030\n",
      "Iteration [42/1000], phi update diff norm: 0.0028\n",
      "Iteration [43/1000], phi update diff norm: 0.0027\n",
      "Iteration [44/1000], phi update diff norm: 0.0026\n",
      "Iteration [45/1000], phi update diff norm: 0.0025\n",
      "Iteration [46/1000], phi update diff norm: 0.0024\n",
      "Iteration [47/1000], phi update diff norm: 0.0025\n",
      "Iteration [48/1000], phi update diff norm: 0.0026\n",
      "Iteration [49/1000], phi update diff norm: 0.0026\n",
      "Iteration [50/1000], phi update diff norm: 0.0027\n",
      "Iteration [51/1000], phi update diff norm: 0.0028\n",
      "Iteration [52/1000], phi update diff norm: 0.0028\n",
      "Iteration [53/1000], phi update diff norm: 0.0027\n",
      "Iteration [54/1000], phi update diff norm: 0.0026\n",
      "Iteration [55/1000], phi update diff norm: 0.0025\n",
      "Iteration [56/1000], phi update diff norm: 0.0025\n",
      "Iteration [57/1000], phi update diff norm: 0.0026\n",
      "Iteration [58/1000], phi update diff norm: 0.0025\n",
      "Iteration [59/1000], phi update diff norm: 0.0024\n",
      "Iteration [60/1000], phi update diff norm: 0.0023\n",
      "Iteration [61/1000], phi update diff norm: 0.0023\n",
      "Iteration [62/1000], phi update diff norm: 0.0022\n",
      "Iteration [63/1000], phi update diff norm: 0.0021\n",
      "Iteration [64/1000], phi update diff norm: 0.0020\n",
      "Iteration [65/1000], phi update diff norm: 0.0019\n",
      "Iteration [66/1000], phi update diff norm: 0.0019\n",
      "Iteration [67/1000], phi update diff norm: 0.0019\n",
      "Iteration [68/1000], phi update diff norm: 0.0019\n",
      "Iteration [69/1000], phi update diff norm: 0.0019\n",
      "Iteration [70/1000], phi update diff norm: 0.0017\n",
      "Iteration [71/1000], phi update diff norm: 0.0015\n",
      "Iteration [72/1000], phi update diff norm: 0.0015\n",
      "Iteration [73/1000], phi update diff norm: 0.0014\n",
      "Iteration [74/1000], phi update diff norm: 0.0013\n",
      "Iteration [75/1000], phi update diff norm: 0.0013\n",
      "Iteration [76/1000], phi update diff norm: 0.0012\n",
      "Iteration [77/1000], phi update diff norm: 0.0012\n",
      "Iteration [78/1000], phi update diff norm: 0.0011\n",
      "Iteration [79/1000], phi update diff norm: 0.0010\n",
      "Iteration [80/1000], phi update diff norm: 0.0011\n",
      "Iteration [81/1000], phi update diff norm: 0.0010\n",
      "Iteration [82/1000], phi update diff norm: 0.0010\n"
     ]
    }
   ],
   "source": [
    "topic_model = ContextTopicModel(\n",
    "    vocab_size=len(preprocessor.vocabulary),\n",
    "    ctx_len=10,\n",
    ")\n",
    "\n",
    "topic_model.fit(\n",
    "    data=tokenized_data,\n",
    "    ctx_bounds=document_bounds,\n",
    "    verbose=2,\n",
    ")"
   ]
  },
  {
   "cell_type": "markdown",
   "metadata": {},
   "source": [
    "The model stops fitting because the update diff norm becomes too low. This means that the model has converged. You can modify the convergence threshold and max number of iterations."
   ]
  },
  {
   "cell_type": "code",
   "execution_count": null,
   "metadata": {},
   "outputs": [
    {
     "name": "stdout",
     "output_type": "stream",
     "text": [
      "Iteration [1/1000], phi update diff norm: 0.1312\n",
      "Iteration [2/1000], phi update diff norm: 0.0245\n",
      "Iteration [3/1000], phi update diff norm: 0.0294\n",
      "Iteration [4/1000], phi update diff norm: 0.0341\n",
      "Iteration [5/1000], phi update diff norm: 0.0440\n",
      "Iteration [6/1000], phi update diff norm: 0.0610\n",
      "Iteration [7/1000], phi update diff norm: 0.0668\n",
      "Iteration [8/1000], phi update diff norm: 0.0636\n",
      "Iteration [9/1000], phi update diff norm: 0.0673\n",
      "Iteration [10/1000], phi update diff norm: 0.0618\n",
      "Iteration [11/1000], phi update diff norm: 0.0411\n",
      "Iteration [12/1000], phi update diff norm: 0.0215\n",
      "Iteration [13/1000], phi update diff norm: 0.0148\n",
      "Iteration [14/1000], phi update diff norm: 0.0149\n",
      "Iteration [15/1000], phi update diff norm: 0.0177\n",
      "Iteration [16/1000], phi update diff norm: 0.0238\n",
      "Iteration [17/1000], phi update diff norm: 0.0295\n",
      "Iteration [18/1000], phi update diff norm: 0.0218\n",
      "Iteration [19/1000], phi update diff norm: 0.0109\n",
      "Iteration [20/1000], phi update diff norm: 0.0087\n"
     ]
    }
   ],
   "source": [
    "topic_model_tol = ContextTopicModel(\n",
    "    vocab_size=len(preprocessor.vocabulary),\n",
    "    ctx_len=10,\n",
    ")\n",
    "\n",
    "topic_model_tol.fit(\n",
    "    data=tokenized_data,\n",
    "    ctx_bounds=document_bounds,\n",
    "    tol=0.01,\n",
    "    verbose=2,\n",
    ")"
   ]
  },
  {
   "cell_type": "code",
   "execution_count": 30,
   "metadata": {},
   "outputs": [
    {
     "name": "stdout",
     "output_type": "stream",
     "text": [
      "Iteration [1/10], phi update diff norm: 0.1312\n",
      "Iteration [2/10], phi update diff norm: 0.0245\n",
      "Iteration [3/10], phi update diff norm: 0.0294\n",
      "Iteration [4/10], phi update diff norm: 0.0341\n",
      "Iteration [5/10], phi update diff norm: 0.0440\n",
      "Iteration [6/10], phi update diff norm: 0.0610\n",
      "Iteration [7/10], phi update diff norm: 0.0668\n",
      "Iteration [8/10], phi update diff norm: 0.0636\n",
      "Iteration [9/10], phi update diff norm: 0.0673\n",
      "Iteration [10/10], phi update diff norm: 0.0618\n"
     ]
    }
   ],
   "source": [
    "topic_model_iter = ContextTopicModel(\n",
    "    vocab_size=len(preprocessor.vocabulary),\n",
    "    ctx_len=10,\n",
    ")\n",
    "\n",
    "topic_model_iter.fit(\n",
    "    data=tokenized_data,\n",
    "    ctx_bounds=document_bounds,\n",
    "    max_iter=10,\n",
    "    verbose=2,\n",
    ")"
   ]
  },
  {
   "cell_type": "markdown",
   "metadata": {},
   "source": [
    "You can also modify number of topics and other parameters of the model. Refer to the `fit` funciton docs for more info on fitting the model."
   ]
  },
  {
   "cell_type": "markdown",
   "metadata": {},
   "source": [
    "After the model is fitted, you can access its parameters and analyse them."
   ]
  },
  {
   "cell_type": "code",
   "execution_count": 32,
   "metadata": {},
   "outputs": [
    {
     "name": "stdout",
     "output_type": "stream",
     "text": [
      "phi matrix type: <class 'jaxlib.xla_extension.ArrayImpl'>, shape: (107673, 10)\n",
      "n_t array type: <class 'jaxlib.xla_extension.ArrayImpl'>, shape: (10,)\n"
     ]
    }
   ],
   "source": [
    "phi_wt = topic_model.phi  # p(w|t)\n",
    "n_t = topic_model.n_t  # denormalized distribution of topics\n",
    "print(f'phi matrix type: {type(phi_wt)}, shape: {phi_wt.shape}')\n",
    "print(f'n_t array type: {type(n_t)}, shape: {n_t.shape}')"
   ]
  },
  {
   "cell_type": "markdown",
   "metadata": {},
   "source": [
    "Plot a histogram of a distribution of topics in corpus:"
   ]
  },
  {
   "cell_type": "code",
   "execution_count": 48,
   "metadata": {},
   "outputs": [
    {
     "data": {
      "image/png": "[encoded data removed]",
      "text/plain": [
       "<Figure size 640x480 with 1 Axes>"
      ]
     },
     "metadata": {},
     "output_type": "display_data"
    }
   ],
   "source": [
    "plt.stairs(n_t / n_t.sum(), range(len(n_t) + 1), fill=True)\n",
    "\n",
    "plt.xticks(range(len(n_t)))\n",
    "plt.xlabel('Topic number')\n",
    "plt.ylabel('Density')\n",
    "plt.title('Distribution of 10 topics in corpus')\n",
    "plt.show()"
   ]
  },
  {
   "cell_type": "markdown",
   "metadata": {},
   "source": [
    "Print top-10 words from each topic:"
   ]
  },
  {
   "cell_type": "code",
   "execution_count": 53,
   "metadata": {},
   "outputs": [
    {
     "name": "stdout",
     "output_type": "stream",
     "text": [
      "Topic 1: would\tknow\tone\tlike\tdoe\tha\tthink\tmake\tthing\tcould\n",
      "\n",
      "Topic 2: line\torganization\tarticle\tuniversity\tapr\tca\tedu\tdistribution\tc\tusa\n",
      "\n",
      "Topic 3: x\tfile\twindow\tprogram\tmail\tavailable\tplease\timage\tftp\tlist\n",
      "\n",
      "Topic 4: ax\tedu\tposting\thost\tnntp\tmax\tcc\tc\tmit\twrites\n",
      "\n",
      "Topic 5: com\tsubject\twrites\tuk\tac\tedu\tdavid\tjohn\tthanks\treply\n",
      "\n",
      "Topic 6: wa\tpeople\tgod\tu\tgovernment\tha\tlaw\tright\tchristian\tstate\n",
      "\n",
      "Topic 7: year\twa\ttime\tday\tlast\tspace\ttwo\tha\tfirst\tago\n",
      "\n",
      "Topic 8: new\tsystem\tdrive\tuse\tbit\tcard\tchip\tkey\tdata\tdisk\n",
      "\n",
      "Topic 9: w\tr\tg\tp\tf\tb\tq\tv\tc\tu\n",
      "\n",
      "Topic 10: wa\twould\tgo\tget\ttime\tone\tpeople\tgame\tback\tfirst\n",
      "\n"
     ]
    }
   ],
   "source": [
    "# find top-10 words with the biggest probability p(w|t) for each topic t\n",
    "topk = jnp.argsort(phi_wt, axis=0, descending=True)[:10, :].T\n",
    "\n",
    "# create mapping token -> word from existing mapping word -> token (vocabulary)\n",
    "reverse_vocab = {value: key for key, value in vocabulary.items()}\n",
    "\n",
    "for topic_idx, t in enumerate(topk):\n",
    "    print(f'Topic {topic_idx + 1}:', '\\t'.join([reverse_vocab[int(idx)] for idx in t]))\n",
    "    print()"
   ]
  }
 ],
 "metadata": {
  "kernelspec": {
   "display_name": "cartm-srLx0cG6-py3.12",
   "language": "python",
   "name": "python3"
  },
  "language_info": {
   "codemirror_mode": {
    "name": "ipython",
    "version": 3
   },
   "file_extension": ".py",
   "mimetype": "text/x-python",
   "name": "python",
   "nbconvert_exporter": "python",
   "pygments_lexer": "ipython3",
   "version": "3.12.5"
  }
 },
 "nbformat": 4,
 "nbformat_minor": 2
}
