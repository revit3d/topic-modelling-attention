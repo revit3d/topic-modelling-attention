{
 "cells": [
  {
   "cell_type": "code",
   "execution_count": 1,
   "metadata": {},
   "outputs": [],
   "source": [
    "import jax.numpy as jnp\n",
    "\n",
    "from sklearn.datasets import fetch_20newsgroups\n",
    "\n",
    "import matplotlib.pyplot as plt\n",
    "import seaborn as sns\n",
    "\n",
    "from cartm.model import ContextTopicModel\n",
    "from cartm.prepocessing import DatasetPreprocessor, BatchLoader\n",
    "from cartm.metrics import PerplexityMetric"
   ]
  },
  {
   "cell_type": "markdown",
   "metadata": {},
   "source": [
    "This example shows how to fit the model on batches of data. This approach is useful when you cannot fit the model on the whole corpus at once (the dataset is too big, you have memory constraints, etc.). Batching allows you to modify the number of tokens which the model will take into account at once.\n",
    "\n",
    "However, keep in mind that this approach usually has a negative impact on the quality of the results. If you have the opportunity to fit on the whole dataset, it is always the preferrable way of training the topic model.\n",
    "\n",
    "Also, if you are not familiar with how to train a model on full data, refer to `quickstart.ipynb` notebook first."
   ]
  },
  {
   "cell_type": "code",
   "execution_count": 2,
   "metadata": {},
   "outputs": [
    {
     "name": "stdout",
     "output_type": "stream",
     "text": [
      "Total number of documents in corpus: 18846\n",
      "Total number of words in corpus: 5937230\n"
     ]
    }
   ],
   "source": [
    "data = fetch_20newsgroups(data_home='./data/', subset='all').data\n",
    "print(f'Total number of documents in corpus: {len(data)}')\n",
    "print(f'Total number of words in corpus: {sum([len(doc.split(' ')) for doc in data])}')"
   ]
  },
  {
   "cell_type": "code",
   "execution_count": 3,
   "metadata": {},
   "outputs": [
    {
     "name": "stdout",
     "output_type": "stream",
     "text": [
      "Total number of document boundaries in preprocessed corpus: 18847\n",
      "Total number of tokenized words in preprocessed corpus: 3450212\n"
     ]
    }
   ],
   "source": [
    "preprocessor = DatasetPreprocessor()\n",
    "tokenized_data, document_bounds = preprocessor.fit_transform(data)\n",
    "print(f'Total number of document boundaries in preprocessed corpus: {len(document_bounds)}')\n",
    "print(f'Total number of tokenized words in preprocessed corpus: {len(tokenized_data)}')"
   ]
  },
  {
   "cell_type": "markdown",
   "metadata": {},
   "source": [
    "## Batching the data\n",
    "\n",
    "After the preprocessing of the corpus, we can pass the dataset to `BatchLoader` class. This class handles splitting the dataset into batches and loading them during model training."
   ]
  },
  {
   "cell_type": "code",
   "execution_count": 4,
   "metadata": {},
   "outputs": [
    {
     "name": "stdout",
     "output_type": "stream",
     "text": [
      "Number of batches: 346\n"
     ]
    }
   ],
   "source": [
    "loader = BatchLoader(\n",
    "    data=tokenized_data,\n",
    "    doc_bounds=document_bounds,\n",
    "    batch_size=10000,\n",
    ")\n",
    "print(f'Number of batches: {len(loader)}')"
   ]
  },
  {
   "cell_type": "markdown",
   "metadata": {},
   "source": [
    "## Batched training\n",
    "\n",
    "To start batched training, simply pass the loader to the model's `fit` method."
   ]
  },
  {
   "cell_type": "code",
   "execution_count": 5,
   "metadata": {},
   "outputs": [
    {
     "name": "stdout",
     "output_type": "stream",
     "text": [
      "Iteration [1/100], phi update diff norm: 0.1121\n",
      "Iteration [2/100], phi update diff norm: 0.0097\n",
      "Iteration [3/100], phi update diff norm: 0.0134\n",
      "Iteration [4/100], phi update diff norm: 0.0177\n",
      "Iteration [5/100], phi update diff norm: 0.0216\n",
      "Iteration [6/100], phi update diff norm: 0.0239\n",
      "Iteration [7/100], phi update diff norm: 0.0239\n",
      "Iteration [8/100], phi update diff norm: 0.0224\n",
      "Iteration [9/100], phi update diff norm: 0.0202\n",
      "Iteration [10/100], phi update diff norm: 0.0184\n",
      "Iteration [11/100], phi update diff norm: 0.0168\n",
      "Iteration [12/100], phi update diff norm: 0.0141\n",
      "Iteration [13/100], phi update diff norm: 0.0118\n",
      "Iteration [14/100], phi update diff norm: 0.0106\n",
      "Iteration [15/100], phi update diff norm: 0.0097\n",
      "Iteration [16/100], phi update diff norm: 0.0089\n",
      "Iteration [17/100], phi update diff norm: 0.0079\n",
      "Iteration [18/100], phi update diff norm: 0.0072\n",
      "Iteration [19/100], phi update diff norm: 0.0078\n",
      "Iteration [20/100], phi update diff norm: 0.0081\n",
      "Iteration [21/100], phi update diff norm: 0.0070\n",
      "Iteration [22/100], phi update diff norm: 0.0059\n",
      "Iteration [23/100], phi update diff norm: 0.0053\n",
      "Iteration [24/100], phi update diff norm: 0.0050\n",
      "Iteration [25/100], phi update diff norm: 0.0052\n",
      "Iteration [26/100], phi update diff norm: 0.0053\n",
      "Iteration [27/100], phi update diff norm: 0.0050\n",
      "Iteration [28/100], phi update diff norm: 0.0048\n",
      "Iteration [29/100], phi update diff norm: 0.0044\n",
      "Iteration [30/100], phi update diff norm: 0.0038\n",
      "Iteration [31/100], phi update diff norm: 0.0034\n",
      "Iteration [32/100], phi update diff norm: 0.0031\n",
      "Iteration [33/100], phi update diff norm: 0.0029\n",
      "Iteration [34/100], phi update diff norm: 0.0026\n",
      "Iteration [35/100], phi update diff norm: 0.0024\n",
      "Iteration [36/100], phi update diff norm: 0.0023\n",
      "Iteration [37/100], phi update diff norm: 0.0021\n",
      "Iteration [38/100], phi update diff norm: 0.0020\n",
      "Iteration [39/100], phi update diff norm: 0.0019\n",
      "Iteration [40/100], phi update diff norm: 0.0018\n",
      "Iteration [41/100], phi update diff norm: 0.0017\n",
      "Iteration [42/100], phi update diff norm: 0.0017\n",
      "Iteration [43/100], phi update diff norm: 0.0017\n",
      "Iteration [44/100], phi update diff norm: 0.0016\n",
      "Iteration [45/100], phi update diff norm: 0.0016\n",
      "Iteration [46/100], phi update diff norm: 0.0017\n",
      "Iteration [47/100], phi update diff norm: 0.0017\n",
      "Iteration [48/100], phi update diff norm: 0.0018\n",
      "Iteration [49/100], phi update diff norm: 0.0018\n",
      "Iteration [50/100], phi update diff norm: 0.0017\n",
      "Iteration [51/100], phi update diff norm: 0.0016\n",
      "Iteration [52/100], phi update diff norm: 0.0014\n",
      "Iteration [53/100], phi update diff norm: 0.0013\n",
      "Iteration [54/100], phi update diff norm: 0.0012\n",
      "Iteration [55/100], phi update diff norm: 0.0011\n",
      "Iteration [56/100], phi update diff norm: 0.0011\n",
      "Iteration [57/100], phi update diff norm: 0.0010\n",
      "Iteration [58/100], phi update diff norm: 0.0011\n",
      "Iteration [59/100], phi update diff norm: 0.0016\n",
      "Iteration [60/100], phi update diff norm: 0.0012\n",
      "Iteration [61/100], phi update diff norm: 0.0014\n",
      "Iteration [62/100], phi update diff norm: 0.0015\n",
      "Iteration [63/100], phi update diff norm: 0.0016\n",
      "Iteration [64/100], phi update diff norm: 0.0015\n",
      "Iteration [65/100], phi update diff norm: 0.0014\n",
      "Iteration [66/100], phi update diff norm: 0.0013\n",
      "Iteration [67/100], phi update diff norm: 0.0013\n",
      "Iteration [68/100], phi update diff norm: 0.0013\n",
      "Iteration [69/100], phi update diff norm: 0.0014\n",
      "Iteration [70/100], phi update diff norm: 0.0017\n",
      "Iteration [71/100], phi update diff norm: 0.0033\n",
      "Iteration [72/100], phi update diff norm: 0.0025\n",
      "Iteration [73/100], phi update diff norm: 0.0017\n",
      "Iteration [74/100], phi update diff norm: 0.0014\n",
      "Iteration [75/100], phi update diff norm: 0.0014\n",
      "Iteration [76/100], phi update diff norm: 0.0014\n",
      "Iteration [77/100], phi update diff norm: 0.0014\n",
      "Iteration [78/100], phi update diff norm: 0.0014\n",
      "Iteration [79/100], phi update diff norm: 0.0013\n",
      "Iteration [80/100], phi update diff norm: 0.0013\n",
      "Iteration [81/100], phi update diff norm: 0.0012\n",
      "Iteration [82/100], phi update diff norm: 0.0011\n",
      "Iteration [83/100], phi update diff norm: 0.0011\n",
      "Iteration [84/100], phi update diff norm: 0.0010\n",
      "Iteration [85/100], phi update diff norm: 0.0010\n"
     ]
    }
   ],
   "source": [
    "topic_model = ContextTopicModel(\n",
    "    vocab_size=len(preprocessor.vocabulary),\n",
    "    ctx_len=10,\n",
    ")\n",
    "\n",
    "topic_model.fit(\n",
    "    data=loader,\n",
    "    max_iter=100,\n",
    "    tol=1e-3,\n",
    "    verbose=2,\n",
    "    seed=42,\n",
    ")"
   ]
  },
  {
   "cell_type": "markdown",
   "metadata": {},
   "source": [
    "## Adjusting learning rate"
   ]
  },
  {
   "cell_type": "markdown",
   "metadata": {},
   "source": [
    "The batched training is generally slower than training on the whole dataset at once. You can adjust convergence speed with `lr` (learning rate) parameter in `fit` method.\n",
    "\n",
    "To visualize the results of training and convergence difference, let's introduce one more feature: metric calculation. We will calculate perplexity on each step of model training and compare it with different `lr` values. To learn more about metrics, refer to `metrics.ipynb` example notebook.\n",
    "\n",
    "Now, let's train three models with different learning rates and visualize the difference of perplexity among this models."
   ]
  },
  {
   "cell_type": "code",
   "execution_count": 6,
   "metadata": {},
   "outputs": [],
   "source": [
    "lr_to_metric = {}\n",
    "\n",
    "for lr in [0.1, 0.01, 0.001]:\n",
    "    metric = PerplexityMetric()\n",
    "\n",
    "    topic_model = ContextTopicModel(\n",
    "        vocab_size=len(preprocessor.vocabulary),\n",
    "        ctx_len=10,\n",
    "        metrics=[metric],\n",
    "    )\n",
    "\n",
    "    topic_model.fit(\n",
    "        data=loader,\n",
    "        max_iter=100,\n",
    "        tol=1e-3,\n",
    "        verbose=0,\n",
    "        seed=42,\n",
    "        lr=lr,\n",
    "    )\n",
    "\n",
    "    lr_to_metric[lr] = metric.history"
   ]
  },
  {
   "cell_type": "code",
   "execution_count": 7,
   "metadata": {},
   "outputs": [
    {
     "data": {
      "image/png": "[encoded data removed]",
      "text/plain": [
       "<Figure size 640x480 with 1 Axes>"
      ]
     },
     "metadata": {},
     "output_type": "display_data"
    }
   ],
   "source": [
    "sns.set_theme()\n",
    "\n",
    "for lr, values in lr_to_metric.items():\n",
    "    # The value of perplexity on the first step is usually very high, so we skip it\n",
    "    plt.plot(values[1:], label=f'lr = {lr}')\n",
    "\n",
    "plt.title('Comparison of different lr values for batched training')\n",
    "plt.yticks(jnp.arange(3000, 13000, 1000))\n",
    "plt.xlabel('Iteration')\n",
    "plt.ylabel('Perplexity')\n",
    "plt.legend()\n",
    "plt.show()"
   ]
  },
  {
   "cell_type": "markdown",
   "metadata": {},
   "source": [
    "As we can see from this example, choosing the learning rate parameter greatly affects convergence and quality of the model."
   ]
  }
 ],
 "metadata": {
  "kernelspec": {
   "display_name": "cartm-srLx0cG6-py3.12",
   "language": "python",
   "name": "python3"
  },
  "language_info": {
   "codemirror_mode": {
    "name": "ipython",
    "version": 3
   },
   "file_extension": ".py",
   "mimetype": "text/x-python",
   "name": "python",
   "nbconvert_exporter": "python",
   "pygments_lexer": "ipython3",
   "version": "3.12.5"
  }
 },
 "nbformat": 4,
 "nbformat_minor": 2
}
