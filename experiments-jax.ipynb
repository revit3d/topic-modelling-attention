{
 "cells": [
  {
   "cell_type": "code",
   "execution_count": 2,
   "metadata": {},
   "outputs": [],
   "source": [
    "import numpy as np\n",
    "import pandas as pd\n",
    "\n",
    "import jax\n",
    "import jax.numpy as jnp\n",
    "from scipy.signal import fftconvolve\n",
    "\n",
    "import re\n",
    "from nltk.corpus import stopwords\n",
    "from nltk.tokenize import word_tokenize\n",
    "from nltk.stem import WordNetLemmatizer\n",
    "\n",
    "from sklearn.feature_extraction.text import CountVectorizer\n",
    "\n",
    "import matplotlib.pyplot as plt\n",
    "import seaborn as sns"
   ]
  },
  {
   "cell_type": "code",
   "execution_count": 3,
   "metadata": {},
   "outputs": [
    {
     "name": "stdout",
     "output_type": "stream",
     "text": [
      "2225\n"
     ]
    },
    {
     "data": {
      "text/html": [
       "<div>\n",
       "<style scoped>\n",
       "    .dataframe tbody tr th:only-of-type {\n",
       "        vertical-align: middle;\n",
       "    }\n",
       "\n",
       "    .dataframe tbody tr th {\n",
       "        vertical-align: top;\n",
       "    }\n",
       "\n",
       "    .dataframe thead th {\n",
       "        text-align: right;\n",
       "    }\n",
       "</style>\n",
       "<table border=\"1\" class=\"dataframe\">\n",
       "  <thead>\n",
       "    <tr style=\"text-align: right;\">\n",
       "      <th></th>\n",
       "      <th>index</th>\n",
       "      <th>text</th>\n",
       "      <th>labels</th>\n",
       "    </tr>\n",
       "  </thead>\n",
       "  <tbody>\n",
       "    <tr>\n",
       "      <th>0</th>\n",
       "      <td>0</td>\n",
       "      <td>Ad sales boost Time Warner profit\\n\\nQuarterly...</td>\n",
       "      <td>business</td>\n",
       "    </tr>\n",
       "    <tr>\n",
       "      <th>1</th>\n",
       "      <td>1</td>\n",
       "      <td>Dollar gains on Greenspan speech\\n\\nThe dollar...</td>\n",
       "      <td>business</td>\n",
       "    </tr>\n",
       "    <tr>\n",
       "      <th>2</th>\n",
       "      <td>2</td>\n",
       "      <td>Yukos unit buyer faces loan claim\\n\\nThe owner...</td>\n",
       "      <td>business</td>\n",
       "    </tr>\n",
       "    <tr>\n",
       "      <th>3</th>\n",
       "      <td>3</td>\n",
       "      <td>High fuel prices hit BA's profits\\n\\nBritish A...</td>\n",
       "      <td>business</td>\n",
       "    </tr>\n",
       "    <tr>\n",
       "      <th>4</th>\n",
       "      <td>4</td>\n",
       "      <td>Pernod takeover talk lifts Domecq\\n\\nShares in...</td>\n",
       "      <td>business</td>\n",
       "    </tr>\n",
       "    <tr>\n",
       "      <th>...</th>\n",
       "      <td>...</td>\n",
       "      <td>...</td>\n",
       "      <td>...</td>\n",
       "    </tr>\n",
       "    <tr>\n",
       "      <th>2197</th>\n",
       "      <td>2217</td>\n",
       "      <td>TV's future down the phone line\\n\\nInternet TV...</td>\n",
       "      <td>tech</td>\n",
       "    </tr>\n",
       "    <tr>\n",
       "      <th>2198</th>\n",
       "      <td>2218</td>\n",
       "      <td>Cebit fever takes over Hanover\\n\\nThousands of...</td>\n",
       "      <td>tech</td>\n",
       "    </tr>\n",
       "    <tr>\n",
       "      <th>2199</th>\n",
       "      <td>2220</td>\n",
       "      <td>BT program to beat dialler scams\\n\\nBT is intr...</td>\n",
       "      <td>tech</td>\n",
       "    </tr>\n",
       "    <tr>\n",
       "      <th>2200</th>\n",
       "      <td>2221</td>\n",
       "      <td>Spam e-mails tempt net shoppers\\n\\nComputer us...</td>\n",
       "      <td>tech</td>\n",
       "    </tr>\n",
       "    <tr>\n",
       "      <th>2201</th>\n",
       "      <td>2223</td>\n",
       "      <td>US cyber security chief resigns\\n\\nThe man mak...</td>\n",
       "      <td>tech</td>\n",
       "    </tr>\n",
       "  </tbody>\n",
       "</table>\n",
       "<p>2202 rows × 3 columns</p>\n",
       "</div>"
      ],
      "text/plain": [
       "      index                                               text    labels\n",
       "0         0  Ad sales boost Time Warner profit\\n\\nQuarterly...  business\n",
       "1         1  Dollar gains on Greenspan speech\\n\\nThe dollar...  business\n",
       "2         2  Yukos unit buyer faces loan claim\\n\\nThe owner...  business\n",
       "3         3  High fuel prices hit BA's profits\\n\\nBritish A...  business\n",
       "4         4  Pernod takeover talk lifts Domecq\\n\\nShares in...  business\n",
       "...     ...                                                ...       ...\n",
       "2197   2217  TV's future down the phone line\\n\\nInternet TV...      tech\n",
       "2198   2218  Cebit fever takes over Hanover\\n\\nThousands of...      tech\n",
       "2199   2220  BT program to beat dialler scams\\n\\nBT is intr...      tech\n",
       "2200   2221  Spam e-mails tempt net shoppers\\n\\nComputer us...      tech\n",
       "2201   2223  US cyber security chief resigns\\n\\nThe man mak...      tech\n",
       "\n",
       "[2202 rows x 3 columns]"
      ]
     },
     "execution_count": 3,
     "metadata": {},
     "output_type": "execute_result"
    }
   ],
   "source": [
    "df = pd.read_csv('./data/bbc_text_cls.csv')\n",
    "maxlen = np.quantile(df.text.apply(len), q=0.99)\n",
    "print(len(df))\n",
    "df = df[df.text.apply(len) < maxlen].reset_index()\n",
    "df"
   ]
  },
  {
   "cell_type": "code",
   "execution_count": 4,
   "metadata": {},
   "outputs": [],
   "source": [
    "maxlen = 500"
   ]
  },
  {
   "cell_type": "code",
   "execution_count": 5,
   "metadata": {},
   "outputs": [],
   "source": [
    "class ArticlesDataset():\n",
    "    UNK_TOKEN = 'UNK'\n",
    "    PAD_TOKEN = 'PAD'\n",
    "\n",
    "    @staticmethod\n",
    "    def preprocess_text(text: str) -> list[str]:\n",
    "        text = text.lower()  # lower characters\n",
    "        text = re.sub(r'[^a-zA-Z]', ' ', text)  # remove special characters\n",
    "        text_tokenized = word_tokenize(text)  # split by words\n",
    "\n",
    "        lemmatizer = WordNetLemmatizer()  # lemmatize\n",
    "        text_tokenized = [lemmatizer.lemmatize(word) for word in text_tokenized]\n",
    "\n",
    "        english_stopwords = set(stopwords.words(\"english\"))    # remove stopwords\n",
    "        text_tokenized = [word for word in text_tokenized if word not in english_stopwords]\n",
    "        return text_tokenized\n",
    "\n",
    "    @classmethod\n",
    "    def create_vocab(cls, texts: list[list[str]]) -> dict:\n",
    "        vocab = {\n",
    "            cls.UNK_TOKEN: 0,\n",
    "            cls.PAD_TOKEN: 1,\n",
    "        }\n",
    "        for text in texts:\n",
    "            for word in text:\n",
    "                vocab[word] = vocab.get(word, len(vocab))\n",
    "        return vocab\n",
    "\n",
    "    @property\n",
    "    def unk_token_id(self):\n",
    "        return self.vocab[self.UNK_TOKEN]\n",
    "\n",
    "    @property\n",
    "    def pad_token_id(self):\n",
    "        return self.vocab[self.PAD_TOKEN]\n",
    "\n",
    "    def __init__(self, data, maxlen):\n",
    "        if maxlen is None:\n",
    "            maxlen = data.text.apply(len).max()\n",
    "        self.maxlen = maxlen\n",
    "        texts_tokenized = data.text.apply(self.preprocess_text).to_list()\n",
    "\n",
    "        self.vocab = self.create_vocab(texts_tokenized)\n",
    "\n",
    "        unique_labels = set(data.labels.to_list())\n",
    "        self.labels_vocab = {label: idx for idx, label in enumerate(unique_labels)}\n",
    "        self.labels = data.labels.apply(lambda x: self.labels_vocab[x])\n",
    "\n",
    "        self.data = np.full((len(texts_tokenized), self.maxlen), fill_value=self.pad_token_id)\n",
    "        for text_idx, text in enumerate(texts_tokenized):\n",
    "            for word_idx, word in enumerate(text):\n",
    "                if word_idx >= self.maxlen:\n",
    "                    break\n",
    "                self.data[text_idx][word_idx] = self.vocab[word]\n",
    "\n",
    "        self.data = jnp.array(self.data)\n",
    "        self.labels = jnp.array(self.labels)\n",
    "\n",
    "    def __len__(self):\n",
    "        return len(self.data)\n",
    "    \n",
    "    def __getitem__(self, index):\n",
    "        tokens = self.data[index]\n",
    "        label = self.labels[index]\n",
    "\n",
    "        tokens = jnp.array(tokens)\n",
    "        label = jnp.array(label)\n",
    "        return tokens, label"
   ]
  },
  {
   "cell_type": "code",
   "execution_count": 6,
   "metadata": {},
   "outputs": [],
   "source": [
    "def create_context_coeff_matrix(ctx_len, seq_len):\n",
    "    gamma = 1 / ctx_len\n",
    "\n",
    "    # construct tril matrix (suffix context)\n",
    "    tril_matrix = np.zeros((seq_len, seq_len))\n",
    "    for i in np.arange(1, ctx_len + 1):\n",
    "        tril_matrix[np.arange(i, seq_len), np.arange(seq_len - i)] = gamma * (1 - gamma) ** i\n",
    "\n",
    "    # contstruct full matrix (self + prefix + suffix context)\n",
    "    full_matrix = np.eye(tril_matrix.shape[0]) * gamma + tril_matrix + tril_matrix.T\n",
    "\n",
    "    # normalize weights and transpose\n",
    "    full_matrix /= full_matrix.sum(axis=0)\n",
    "    full_matrix = full_matrix.T\n",
    "    return jnp.array(full_matrix)"
   ]
  },
  {
   "cell_type": "code",
   "execution_count": 7,
   "metadata": {},
   "outputs": [
    {
     "data": {
      "text/plain": [
       "2202"
      ]
     },
     "execution_count": 7,
     "metadata": {},
     "output_type": "execute_result"
    }
   ],
   "source": [
    "dataset = ArticlesDataset(df, maxlen=maxlen)\n",
    "len(dataset)"
   ]
  },
  {
   "cell_type": "code",
   "execution_count": 8,
   "metadata": {},
   "outputs": [
    {
     "data": {
      "image/png": "[encoded data removed]",
      "text/plain": [
       "<Figure size 640x480 with 2 Axes>"
      ]
     },
     "metadata": {},
     "output_type": "display_data"
    }
   ],
   "source": [
    "cf = create_context_coeff_matrix(ctx_len=8, seq_len=20)\n",
    "sns.heatmap(cf)\n",
    "plt.show()"
   ]
  },
  {
   "cell_type": "code",
   "execution_count": 9,
   "metadata": {},
   "outputs": [
    {
     "data": {
      "text/plain": [
       "array([[2, 3],\n",
       "       [2, 3],\n",
       "       [4, 5],\n",
       "       [2, 3]])"
      ]
     },
     "execution_count": 9,
     "metadata": {},
     "output_type": "execute_result"
    }
   ],
   "source": [
    "a = np.array([[2, 3], [4, 5]])\n",
    "\n",
    "b = np.array([0, 0, 1, 0])\n",
    "\n",
    "np.take_along_axis(a, b[:, None], axis=0)"
   ]
  },
  {
   "cell_type": "code",
   "execution_count": 10,
   "metadata": {},
   "outputs": [
    {
     "data": {
      "image/png": "[encoded data removed]",
      "text/plain": [
       "<Figure size 640x480 with 2 Axes>"
      ]
     },
     "metadata": {},
     "output_type": "display_data"
    }
   ],
   "source": [
    "cf = create_context_coeff_matrix(ctx_len=2, seq_len=4)\n",
    "sns.heatmap(cf, annot=True)\n",
    "plt.show()"
   ]
  },
  {
   "cell_type": "code",
   "execution_count": 12,
   "metadata": {},
   "outputs": [
    {
     "data": {
      "text/plain": [
       "((2, 4, 1, 2),\n",
       " array([[[[1.57142856, 1.57142856]],\n",
       " \n",
       "         [[2.22222224, 2.22222224]],\n",
       " \n",
       "         [[2.77777777, 2.77777777]],\n",
       " \n",
       "         [[3.42857149, 3.42857149]]],\n",
       " \n",
       " \n",
       "        [[[2.14285711, 3.14285711]],\n",
       " \n",
       "         [[3.55555558, 4.55555559]],\n",
       " \n",
       "         [[4.77777777, 5.77777777]],\n",
       " \n",
       "         [[6.42857155, 7.42857157]]]]))"
      ]
     },
     "execution_count": 12,
     "metadata": {},
     "output_type": "execute_result"
    }
   ],
   "source": [
    "tensor = jnp.array([\n",
    "    [[1, 1], [2, 2], [3, 3], [4, 4]],\n",
    "    # 0.57 * [1, 1] + 0.29 * [2, 2] + 0.14 * [3, 3] + 0    * [4, 4] = [1.57, 1.57]\n",
    "    # 0.22 * [1, 1] + 0.44 * [2, 2] + 0.22 * [3, 3] + 0.11 * [4, 4] = [2.2, 2.2]\n",
    "    # 0.11 * [1, 1] + 0.22 * [2, 2] + 0.44 * [3, 3] + 0.22 * [4, 4] = [2.75, 2.75]\n",
    "    # 0    * [1, 1] + 0.14 * [2, 2] + 0.29 * [3, 3] + 0.57 * [4, 4] = [3.43, 3.43]\n",
    "    [[1, 2], [3, 4], [5, 6], [8, 9]],\n",
    "])\n",
    "# res = np.einsum('hwk,wj->hwk', tensor, cf)\n",
    "# res = np.dot(tensor, cf[None, ...])\n",
    "res = fftconvolve(tensor[:, None, :, :], cf[::-1][None, :, :, None], mode='valid', axes=[2, 3])\n",
    "# res = res.sum(axis=2)\n",
    "res.shape, res"
   ]
  },
  {
   "cell_type": "code",
   "execution_count": 10,
   "metadata": {},
   "outputs": [
    {
     "data": {
      "text/plain": [
       "((2, 4, 1, 2),\n",
       " array([[[[1.57142856, 1.57142856]],\n",
       " \n",
       "         [[2.22222224, 2.22222224]],\n",
       " \n",
       "         [[2.77777777, 2.77777777]],\n",
       " \n",
       "         [[3.42857149, 3.42857149]]],\n",
       " \n",
       " \n",
       "        [[[2.14285711, 3.14285711]],\n",
       " \n",
       "         [[3.55555558, 4.55555559]],\n",
       " \n",
       "         [[4.77777777, 5.77777777]],\n",
       " \n",
       "         [[6.42857155, 7.42857157]]]]))"
      ]
     },
     "execution_count": 10,
     "metadata": {},
     "output_type": "execute_result"
    }
   ],
   "source": [
    "tensor = np.array([\n",
    "    [[1, 1], [2, 2], [3, 3], [4, 4]],\n",
    "    # 0.57 * [1, 1] + 0.29 * [2, 2] + 0.14 * [3, 3] + 0    * [4, 4] = [1.57, 1.57]\n",
    "    # 0.22 * [1, 1] + 0.44 * [2, 2] + 0.22 * [3, 3] + 0.11 * [4, 4] = [2.2, 2.2]\n",
    "    # 0.11 * [1, 1] + 0.22 * [2, 2] + 0.44 * [3, 3] + 0.22 * [4, 4] = [2.75, 2.75]\n",
    "    # 0    * [1, 1] + 0.14 * [2, 2] + 0.29 * [3, 3] + 0.57 * [4, 4] = [3.43, 3.43]\n",
    "    [[1, 2], [3, 4], [5, 6], [8, 9]],\n",
    "])\n",
    "# res = np.einsum('hwk,wj->hwk', tensor, cf)\n",
    "# res = np.dot(tensor, cf[None, ...])\n",
    "res = fftconvolve(tensor[:, None, :, :], cf[::-1][None, :, :, None], mode='valid')\n",
    "# res = res.sum(axis=2)\n",
    "res.shape, res"
   ]
  },
  {
   "cell_type": "code",
   "execution_count": 11,
   "metadata": {},
   "outputs": [
    {
     "data": {
      "text/plain": [
       "array([[1.57142856, 1.57142856],\n",
       "       [2.22222224, 2.22222224],\n",
       "       [2.77777777, 2.77777777],\n",
       "       [3.42857149, 3.42857149],\n",
       "       [2.14285711, 3.14285711],\n",
       "       [3.55555558, 4.55555559],\n",
       "       [4.77777777, 5.77777777],\n",
       "       [6.42857155, 7.42857157]])"
      ]
     },
     "execution_count": 11,
     "metadata": {},
     "output_type": "execute_result"
    }
   ],
   "source": [
    "res.reshape(-1, res.shape[-1])"
   ]
  },
  {
   "cell_type": "code",
   "execution_count": 12,
   "metadata": {},
   "outputs": [
    {
     "data": {
      "text/plain": [
       "Array([[0.5, 0. , 1. , 0.4],\n",
       "       [0.5, 1. , 0. , 0.6]], dtype=float32)"
      ]
     },
     "execution_count": 12,
     "metadata": {},
     "output_type": "execute_result"
    }
   ],
   "source": [
    "@jax.jit\n",
    "def _norm(x: jnp.ndarray):\n",
    "    # take x+ = max(x, 0) element-wise (perform projection on positive simplex)\n",
    "    x = jnp.maximum(x, jnp.zeros_like(x))\n",
    "    # normalize values in non-zero rows to 1 (mapping from the positive simplex to the unit simplex)\n",
    "    norm = x.sum(axis=0)\n",
    "    x = jnp.where(norm > 1e-12, x / norm, x)\n",
    "    return x\n",
    "\n",
    "_norm(\n",
    "    jnp.array([\n",
    "        [1, -1, 1, 2],\n",
    "        [1, 3, -4, 3],\n",
    "    ])\n",
    ")"
   ]
  },
  {
   "cell_type": "code",
   "execution_count": 13,
   "metadata": {},
   "outputs": [
    {
     "name": "stdout",
     "output_type": "stream",
     "text": [
      "[[ 0.3  0.9]\n",
      " [ 4.   8. ]\n",
      " [10.   4. ]\n",
      " [ 1.   0. ]]\n"
     ]
    }
   ],
   "source": [
    "indices = np.array([0, 0, 0, 1, 2, 1, 3, 2])\n",
    "values = np.array([[0.1, 0.3], [2, 4], [5, 2], [1, 0]])\n",
    "\n",
    "# Create a one-hot encoding of the indices\n",
    "one_hot_indices = np.eye(indices.max() + 1)[indices]\n",
    "\n",
    "# Multiply the one-hot encoding by the values\n",
    "multiplied_values = values * one_hot_indices.sum(axis=0)[:, None]\n",
    "\n",
    "print(multiplied_values)  # Output: [0.2, 4, 0.1, 10]"
   ]
  },
  {
   "cell_type": "code",
   "execution_count": 18,
   "metadata": {},
   "outputs": [],
   "source": [
    "class ContextTopicModel():\n",
    "    \"\"\"\n",
    "    Topic model which uses local context of words\n",
    "    \"\"\"\n",
    "\n",
    "    def __init__(\n",
    "            self,\n",
    "            ctx_len: int,\n",
    "            max_len: int,\n",
    "            vocab_size: int,\n",
    "            n_topics: int = 10,\n",
    "            reg_list: list = None,\n",
    "            eps: float = 1e-12,\n",
    "    ):\n",
    "        \"\"\"\n",
    "        Args:\n",
    "            ctx_len: one-sided context size\n",
    "            max_len: max length of a document, W_d\n",
    "            vocab_size: corpus vocabulary size, W\n",
    "            n_topics: number of topics, T\n",
    "            regularizations: list of regularizations (see `add_regularization` method)\n",
    "            eps: parameter set for balance between numerical stability and precision\n",
    "\n",
    "        Note:\n",
    "            - Total context of a word on `i`-th index is ctx_len words to the left,\\\\\n",
    "            `ctx_len` words to the right, and the word itself\n",
    "            - All documents should be padded to `max_len` length\n",
    "        \"\"\"\n",
    "        self.ctx_len = ctx_len\n",
    "        self.seq_len = max_len\n",
    "        self.n_topics = n_topics\n",
    "        self.vocab_size = vocab_size\n",
    "        self._eps = eps\n",
    "\n",
    "        self._context_coeffs = self._create_context_coeff_matrix()\n",
    "\n",
    "        self._regularizations = dict()\n",
    "        if reg_list is not None:\n",
    "            for reg in reg_list:\n",
    "                self.add_regularization(reg)\n",
    "\n",
    "    def _norm(self, x: jnp.ndarray) -> jnp.ndarray:\n",
    "        # take x+ = max(x, 0) element-wise (perform projection on positive simplex)\n",
    "        x = jnp.maximum(x, jnp.zeros_like(x))\n",
    "        # normalize values in non-zero rows to 1 (mapping from the positive simplex to the unit simplex)\n",
    "        norm = x.sum(axis=0)\n",
    "        x = jnp.where(norm > self._eps, x / norm, x)\n",
    "        return x\n",
    "\n",
    "    def _create_context_coeff_matrix(self) -> jnp.ndarray:\n",
    "        gamma = 1 / self.ctx_len\n",
    "\n",
    "        # construct tril matrix (suffix context)\n",
    "        tril_matrix = np.zeros((self.seq_len, self.seq_len))\n",
    "        for i in np.arange(1, self.ctx_len + 1):\n",
    "            tril_matrix[np.arange(i, self.seq_len), np.arange(self.seq_len - i)] = gamma * (1 - gamma) ** i\n",
    "\n",
    "        # contstruct full matrix (self + prefix + suffix context)\n",
    "        full_matrix = np.eye(tril_matrix.shape[0]) * gamma + tril_matrix + tril_matrix.T\n",
    "\n",
    "        # normalize weights and transpose\n",
    "        full_matrix /= full_matrix.sum(axis=0)\n",
    "        full_matrix = full_matrix.T\n",
    "        return jnp.array(full_matrix)\n",
    "\n",
    "    def add_regularization(self, reg, tag: str = None):\n",
    "        \"\"\"\n",
    "        Add `reg` regularization to the model with `tag` identifier \\\\\n",
    "        Note:\n",
    "        - `reg` has to be a child of base `Regularization` class\n",
    "        - `tag` will use the name of the class by default\n",
    "        \"\"\"\n",
    "        if tag is None:\n",
    "            tag = reg.__name__\n",
    "        if not isinstance(reg, Regularization):\n",
    "            raise TypeError(f'Regularization [{tag}] has to be a subclass of Regularization class')\n",
    "\n",
    "        try:\n",
    "            self._regularizations[tag] = jax.grad(reg)\n",
    "        except Exception:\n",
    "            raise\n",
    "\n",
    "    def _compose_regularizations(self):\n",
    "        regs = self._regularizations.values()\n",
    "        sum_reg = lambda x: sum([1.0, ] + [reg(x) for reg in regs])\n",
    "        return jax.grad(sum_reg)\n",
    "\n",
    "    def fit(self, data: jnp.ndarray, max_iter: int = 1000, tol: float = 1e-3, seed: int = 0):\n",
    "        \"\"\"\n",
    "        Args:\n",
    "            data: matrix of shape (D, W_d), containing tokenized words of each document\n",
    "            max_iter: max number of iterations\n",
    "            tol: early stopping threshold\n",
    "            seed: random seed\n",
    "        \"\"\"\n",
    "        key = jax.random.key(seed)\n",
    "        self.phi = jax.random.normal(\n",
    "            key=key,\n",
    "            shape=(self.vocab_size, self.n_topics),\n",
    "        )  # (W, T)\n",
    "        self.n_t = jnp.full(\n",
    "            shape=(self.n_topics, ),\n",
    "            fill_value=jnp.sum(data) / self.n_topics,\n",
    "        )  # (T, )\n",
    "        grad_regularization = self._compose_regularizations()\n",
    "\n",
    "        for it in jnp.arange(max_iter):\n",
    "            # Calculate phi' (words -> topics) matrix (phi with old p_{ti})\n",
    "            phi_hatch = self._norm(self.phi.T * self.n_t[:, None]).T  # (W, T)\n",
    "\n",
    "            # Create theta (documents -> topics) matrix\n",
    "            # We can interpret phi as a bunch of embeddings for words,\n",
    "            # thus creating tensor of embeddings of words in documents\n",
    "            # and calculating context (document embedding), based on this\n",
    "            data_emb = jnp.take_along_axis(phi_hatch[None, ...], indices=data[..., None], axis=1)  # (D, W_d, T)\n",
    "            print(data_emb[:, None, :, :].shape, self._context_coeffs[::-1][None, :, :, None].shape)\n",
    "            theta_new = fftconvolve(\n",
    "                data_emb[:, None, :, :],\n",
    "                self._context_coeffs[::-1][None, :, :, None],\n",
    "                mode='valid',\n",
    "                axes=[2, 3],\n",
    "            )  # (D, W_d, 1, T)\n",
    "            print(theta_new.shape)\n",
    "            # Now we see each context window as a new document, I - number of context documents\n",
    "            theta_new = theta_new.reshape(-1, theta_new.shape[-1])  # (I, T)\n",
    "\n",
    "            # Update p_{ti} - topic probability distribution for i-th context\n",
    "            data_emb = jnp.take_along_axis(self.phi[None, ...], indices=data[..., None], axis=1)  # (D, W, T)\n",
    "            print(data_emb.shape)\n",
    "            p_ti = data_emb.reshape(-1, data_emb.shape[-1]).T  # (T, I)\n",
    "            p_ti = self._norm(p_ti * theta_new.T)  # (T, I)\n",
    "            print(p_ti.shape)\n",
    "\n",
    "            # Update n_{t} - topic probability distribution\n",
    "            self.n_t = jnp.sum(p_ti, axis=1)  # (T, )\n",
    "            print(self.n_t.shape)\n",
    "\n",
    "            # Update phi (words -> topics) matrix (phi with new p_{ti})\n",
    "            indices = data.flatten()  # (I, )\n",
    "\n",
    "            # OHE-like indices for [w_i = w] indicator\n",
    "            ohe = jnp.eye(self.vocab_size)[indices]  # (I, W)\n",
    "            print(ohe.shape)\n",
    "            phi_unregularized = (p_ti @ ohe).T  # (W, T)\n",
    "            print(phi_unregularized.shape)\n",
    "            phi_new = phi_unregularized + self.phi * grad_regularization(self.phi)  # (W, T)\n",
    "            print(phi_new.shape)\n",
    "            phi_new = self._norm(phi_new)  # (W, T)\n",
    "\n",
    "            diff_norm = jnp.linalg.norm(phi_new - self.phi)\n",
    "            print(f'Iteration [{it}/{max_iter}], diff_norm: {diff_norm:.04f}')\n",
    "            self.phi = phi_new\n",
    "            if diff_norm < tol:\n",
    "                break"
   ]
  },
  {
   "cell_type": "code",
   "execution_count": 19,
   "metadata": {},
   "outputs": [
    {
     "name": "stdout",
     "output_type": "stream",
     "text": [
      "(2202, 1, 500, 10) (1, 500, 500, 1)\n"
     ]
    },
    {
     "ename": "",
     "evalue": "",
     "output_type": "error",
     "traceback": [
      "\u001b[1;31mThe Kernel crashed while executing code in the current cell or a previous cell. \n",
      "\u001b[1;31mPlease review the code in the cell(s) to identify a possible cause of the failure. \n",
      "\u001b[1;31mClick <a href='https://aka.ms/vscodeJupyterKernelCrash'>here</a> for more info. \n",
      "\u001b[1;31mView Jupyter <a href='command:jupyter.viewOutput'>log</a> for further details."
     ]
    }
   ],
   "source": [
    "model = ContextTopicModel(\n",
    "    ctx_len=5,\n",
    "    max_len=maxlen,\n",
    "    vocab_size=len(dataset.vocab),\n",
    "    n_topics=10,\n",
    ")\n",
    "model.fit(dataset.data)"
   ]
  },
  {
   "cell_type": "code",
   "execution_count": 12,
   "metadata": {},
   "outputs": [
    {
     "name": "stdout",
     "output_type": "stream",
     "text": [
      "juxtaposed\taffectionately\tvisually\tdemonised\tkristin\tturkmenistan\texcerpt\trhodes\tleadsnosoftwarepatents\tindrawati\n",
      "\n",
      "skin\tholiff\tflow\tbabe\thoey\trouting\tmade\twindy\tfiszman\trecycled\n",
      "\n",
      "mom\tbiotech\tbouncer\tdefends\tdenis\thowley\tpolicing\tautomaker\tamnesty\tcourse\n",
      "\n",
      "dancefloor\tzephyr\toverestimated\tuninterrupted\tintellectual\ttrusting\tpenny\ttranmere\targumentative\tshooting\n",
      "\n",
      "approve\tfont\tmirvish\tvima\twyatt\tkort\thappy\ttheoretically\tfascination\tpayoff\n",
      "\n",
      "bricked\tship\tconverse\tgearing\telliot\tjessy\tjoko\tleeds\tfamiliar\tschiffer\n",
      "\n",
      "antiseptic\tmen\tincapacitated\texamination\thickox\tsnowfall\thowell\tbekele\tdrink\ttranmere\n",
      "\n",
      "icon\thospice\thalve\tphysically\tscholls\ttenth\tpeace\tmark\tjm\tlikeliest\n",
      "\n",
      "mediavest\tamex\tcristiano\tstage\trelocating\tgovern\tbrainwave\tplayschool\ttrick\trung\n",
      "\n",
      "mount\tdiscrediting\tconfused\tsevastis\tgillie\tfoggy\tpaulse\tautomatic\tthreaten\tjnr\n",
      "\n"
     ]
    }
   ],
   "source": [
    "# maxlen = 100, context = 5\n",
    "topk = jnp.argsort(model.phi, axis=0, descending=True)[:10, :].T  # (T, W_{top})\n",
    "reverse_vocab = {value: key for key, value in dataset.vocab.items()}\n",
    "\n",
    "for t in topk:\n",
    "    print('\\t'.join([reverse_vocab[int(idx)] for idx in t]))\n",
    "    print()"
   ]
  },
  {
   "cell_type": "code",
   "execution_count": null,
   "metadata": {},
   "outputs": [],
   "source": [
    "# maxlen = 500, context = \n",
    "\n",
    "topk = jnp.argsort(model.phi, axis=0, descending=True)[:10, :].T  # (T, W_{top})\n",
    "reverse_vocab = {value: key for key, value in dataset.vocab.items()}\n",
    "\n",
    "for t in topk:\n",
    "    print('\\t'.join([reverse_vocab[int(idx)] for idx in t]))\n",
    "    print()"
   ]
  }
 ],
 "metadata": {
  "kernelspec": {
   "display_name": "topic-modelling-attention-srLx0cG6-py3.12",
   "language": "python",
   "name": "python3"
  },
  "language_info": {
   "codemirror_mode": {
    "name": "ipython",
    "version": 3
   },
   "file_extension": ".py",
   "mimetype": "text/x-python",
   "name": "python",
   "nbconvert_exporter": "python",
   "pygments_lexer": "ipython3",
   "version": "3.12.5"
  }
 },
 "nbformat": 4,
 "nbformat_minor": 2
}
