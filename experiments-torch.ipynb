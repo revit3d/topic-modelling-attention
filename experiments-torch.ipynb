{
 "cells": [
  {
   "cell_type": "code",
   "execution_count": 1,
   "metadata": {},
   "outputs": [],
   "source": [
    "import numpy as np\n",
    "import pandas as pd\n",
    "\n",
    "import torch\n",
    "import torch.nn as nn\n",
    "from torch.utils.data import Dataset, DataLoader\n",
    "\n",
    "import re\n",
    "from nltk.corpus import stopwords\n",
    "from nltk.tokenize import word_tokenize\n",
    "from nltk.stem import WordNetLemmatizer\n",
    "\n",
    "import matplotlib.pyplot as plt\n",
    "import seaborn as sns"
   ]
  },
  {
   "cell_type": "code",
   "execution_count": 2,
   "metadata": {},
   "outputs": [
    {
     "data": {
      "text/html": [
       "<div>\n",
       "<style scoped>\n",
       "    .dataframe tbody tr th:only-of-type {\n",
       "        vertical-align: middle;\n",
       "    }\n",
       "\n",
       "    .dataframe tbody tr th {\n",
       "        vertical-align: top;\n",
       "    }\n",
       "\n",
       "    .dataframe thead th {\n",
       "        text-align: right;\n",
       "    }\n",
       "</style>\n",
       "<table border=\"1\" class=\"dataframe\">\n",
       "  <thead>\n",
       "    <tr style=\"text-align: right;\">\n",
       "      <th></th>\n",
       "      <th>text</th>\n",
       "      <th>labels</th>\n",
       "    </tr>\n",
       "  </thead>\n",
       "  <tbody>\n",
       "    <tr>\n",
       "      <th>0</th>\n",
       "      <td>Ad sales boost Time Warner profit\\n\\nQuarterly...</td>\n",
       "      <td>business</td>\n",
       "    </tr>\n",
       "    <tr>\n",
       "      <th>1</th>\n",
       "      <td>Dollar gains on Greenspan speech\\n\\nThe dollar...</td>\n",
       "      <td>business</td>\n",
       "    </tr>\n",
       "    <tr>\n",
       "      <th>2</th>\n",
       "      <td>Yukos unit buyer faces loan claim\\n\\nThe owner...</td>\n",
       "      <td>business</td>\n",
       "    </tr>\n",
       "    <tr>\n",
       "      <th>3</th>\n",
       "      <td>High fuel prices hit BA's profits\\n\\nBritish A...</td>\n",
       "      <td>business</td>\n",
       "    </tr>\n",
       "    <tr>\n",
       "      <th>4</th>\n",
       "      <td>Pernod takeover talk lifts Domecq\\n\\nShares in...</td>\n",
       "      <td>business</td>\n",
       "    </tr>\n",
       "    <tr>\n",
       "      <th>...</th>\n",
       "      <td>...</td>\n",
       "      <td>...</td>\n",
       "    </tr>\n",
       "    <tr>\n",
       "      <th>2220</th>\n",
       "      <td>BT program to beat dialler scams\\n\\nBT is intr...</td>\n",
       "      <td>tech</td>\n",
       "    </tr>\n",
       "    <tr>\n",
       "      <th>2221</th>\n",
       "      <td>Spam e-mails tempt net shoppers\\n\\nComputer us...</td>\n",
       "      <td>tech</td>\n",
       "    </tr>\n",
       "    <tr>\n",
       "      <th>2222</th>\n",
       "      <td>Be careful how you code\\n\\nA new European dire...</td>\n",
       "      <td>tech</td>\n",
       "    </tr>\n",
       "    <tr>\n",
       "      <th>2223</th>\n",
       "      <td>US cyber security chief resigns\\n\\nThe man mak...</td>\n",
       "      <td>tech</td>\n",
       "    </tr>\n",
       "    <tr>\n",
       "      <th>2224</th>\n",
       "      <td>Losing yourself in online gaming\\n\\nOnline rol...</td>\n",
       "      <td>tech</td>\n",
       "    </tr>\n",
       "  </tbody>\n",
       "</table>\n",
       "<p>2225 rows × 2 columns</p>\n",
       "</div>"
      ],
      "text/plain": [
       "                                                   text    labels\n",
       "0     Ad sales boost Time Warner profit\\n\\nQuarterly...  business\n",
       "1     Dollar gains on Greenspan speech\\n\\nThe dollar...  business\n",
       "2     Yukos unit buyer faces loan claim\\n\\nThe owner...  business\n",
       "3     High fuel prices hit BA's profits\\n\\nBritish A...  business\n",
       "4     Pernod takeover talk lifts Domecq\\n\\nShares in...  business\n",
       "...                                                 ...       ...\n",
       "2220  BT program to beat dialler scams\\n\\nBT is intr...      tech\n",
       "2221  Spam e-mails tempt net shoppers\\n\\nComputer us...      tech\n",
       "2222  Be careful how you code\\n\\nA new European dire...      tech\n",
       "2223  US cyber security chief resigns\\n\\nThe man mak...      tech\n",
       "2224  Losing yourself in online gaming\\n\\nOnline rol...      tech\n",
       "\n",
       "[2225 rows x 2 columns]"
      ]
     },
     "execution_count": 2,
     "metadata": {},
     "output_type": "execute_result"
    }
   ],
   "source": [
    "df = pd.read_csv('./data/bbc_text_cls.csv')\n",
    "df"
   ]
  },
  {
   "cell_type": "code",
   "execution_count": 3,
   "metadata": {},
   "outputs": [
    {
     "data": {
      "image/png": "[encoded data removed]",
      "text/plain": [
       "<Figure size 640x480 with 1 Axes>"
      ]
     },
     "metadata": {},
     "output_type": "display_data"
    }
   ],
   "source": [
    "lens = df.text.apply(len)\n",
    "plt.hist(lens, bins=100)\n",
    "plt.show()"
   ]
  },
  {
   "cell_type": "code",
   "execution_count": 4,
   "metadata": {},
   "outputs": [
    {
     "name": "stdout",
     "output_type": "stream",
     "text": [
      "2225\n",
      "2202\n"
     ]
    }
   ],
   "source": [
    "maxlen = np.quantile(df.text.apply(len), q=0.99)\n",
    "print(len(df))\n",
    "df = df[df.text.apply(len) < maxlen].reset_index()\n",
    "print(len(df))"
   ]
  },
  {
   "cell_type": "code",
   "execution_count": 5,
   "metadata": {},
   "outputs": [
    {
     "data": {
      "image/png": "[encoded data removed]",
      "text/plain": [
       "<Figure size 640x480 with 1 Axes>"
      ]
     },
     "metadata": {},
     "output_type": "display_data"
    }
   ],
   "source": [
    "plt.hist(df.labels)\n",
    "plt.show()"
   ]
  },
  {
   "cell_type": "code",
   "execution_count": 7,
   "metadata": {},
   "outputs": [],
   "source": [
    "class ArticlesDataset(Dataset):\n",
    "    UNK_TOKEN = 'UNK'\n",
    "    PAD_TOKEN = 'PAD'\n",
    "\n",
    "    @staticmethod\n",
    "    def preprocess_text(text: str) -> list[str]:\n",
    "        text = text.lower()  # lower characters\n",
    "        text = re.sub(r'[^a-zA-Z]', ' ', text)  # remove special characters\n",
    "        text_tokenized = word_tokenize(text)  # split by words\n",
    "\n",
    "        lemmatizer = WordNetLemmatizer()  # lemmatize\n",
    "        text_tokenized = [lemmatizer.lemmatize(word) for word in text_tokenized]\n",
    "\n",
    "        english_stopwords = set(stopwords.words(\"english\"))    # remove stopwords\n",
    "        text_tokenized = [word for word in text_tokenized if word not in english_stopwords]\n",
    "        return text_tokenized\n",
    "\n",
    "    @classmethod\n",
    "    def create_vocab(cls, texts: list[list[str]]) -> dict:\n",
    "        vocab = {\n",
    "            cls.UNK_TOKEN: 0,\n",
    "            cls.PAD_TOKEN: 1,\n",
    "        }\n",
    "        for text in texts:\n",
    "            for word in text:\n",
    "                vocab[word] = vocab.get(word, len(vocab))\n",
    "        return vocab\n",
    "\n",
    "    @property\n",
    "    def unk_token_id(self):\n",
    "        return self.vocab[self.UNK_TOKEN]\n",
    "\n",
    "    @property\n",
    "    def pad_token_id(self):\n",
    "        return self.vocab[self.PAD_TOKEN]\n",
    "\n",
    "    def __init__(self, data):\n",
    "        texts_tokenized = data.text.apply(self.preprocess_text).to_list()\n",
    "        self.vocab = self.create_vocab(texts_tokenized)\n",
    "\n",
    "        unique_labels = set(data.labels.to_list())\n",
    "        self.labels_vocab = {label: idx for idx, label in enumerate(unique_labels)}\n",
    "        self.labels = data.labels.apply(lambda x: self.labels_vocab[x])\n",
    "\n",
    "        self.data = list()\n",
    "        for text in texts_tokenized:\n",
    "            self.data.append(list())\n",
    "            for word in text:\n",
    "                self.data[-1].append(self.vocab[word])\n",
    "\n",
    "    def __len__(self):\n",
    "        return len(self.data)\n",
    "    \n",
    "    def __getitem__(self, index) -> torch.Tensor:\n",
    "        tokens = self.data[index]\n",
    "        label = self.labels[index]\n",
    "\n",
    "        tokens = torch.tensor(tokens)\n",
    "        label = torch.tensor(label)\n",
    "        return tokens, label"
   ]
  },
  {
   "cell_type": "code",
   "execution_count": 8,
   "metadata": {},
   "outputs": [
    {
     "data": {
      "text/plain": [
       "2202"
      ]
     },
     "execution_count": 8,
     "metadata": {},
     "output_type": "execute_result"
    }
   ],
   "source": [
    "dataset = ArticlesDataset(df)\n",
    "len(dataset)"
   ]
  },
  {
   "cell_type": "code",
   "execution_count": 9,
   "metadata": {},
   "outputs": [],
   "source": [
    "def collate_fn(batch, pad_token):\n",
    "    tokens, labels = zip(*batch)\n",
    "    tokens = torch.nn.utils.rnn.pad_sequence(tokens, batch_first=True, padding_value=pad_token)\n",
    "    labels = torch.tensor(labels)\n",
    "    return tokens, labels"
   ]
  },
  {
   "cell_type": "code",
   "execution_count": 10,
   "metadata": {},
   "outputs": [
    {
     "data": {
      "text/plain": [
       "69"
      ]
     },
     "execution_count": 10,
     "metadata": {},
     "output_type": "execute_result"
    }
   ],
   "source": [
    "dl = DataLoader(dataset, shuffle=False, batch_size=32, collate_fn=lambda x: collate_fn(x, pad_token=dataset.pad_token_id))\n",
    "len(dl)"
   ]
  },
  {
   "cell_type": "markdown",
   "metadata": {},
   "source": [
    "Пусть $h^{i} \\in \\mathbb{R}^{T}$ - эмбеддинг $i$-го слова, где $T$ - количество тем. \\\n",
    "Взвешенный контекст слова $i$ можно получить путем умножения эмбеддингов слов последовательности на вектор коэффициентов контекста $f$:\n",
    "$$ c^{i} = f^{i} H, \\quad H \\in \\mathbb{R}^{d \\times T}, \\quad f \\in \\mathbb{R}^{d}$$\n",
    "Здесь $d$ - длина текущего документа, а сам вектор контекста имеет форму\n",
    "$$f^{i} = (0, \\dots, 0_{i - n - 1}, \\gamma, \\gamma(1 - \\gamma), \\dots, \\gamma(1 - \\gamma)^{n}, 0_{i}, \\gamma(1 - \\gamma)^{n}, \\dots, \\gamma(1 - \\gamma), \\gamma, 0_{i + n + 1}, \\dots, 0)$$\n",
    "$k$ - длина контекста. Как можно заметить, само слово при этом в собственном контексте не присутствует. Для всего документа эта операция будет выглядеть как умножение матрицы документа на ($k$-диагональную) матрицу коэффициентов контекста $F = (f^0, f^1, \\dots, f^d)$:\n",
    "$$ C = F^T H, \\quad F \\in \\mathbb{R}^{d \\times d} $$"
   ]
  },
  {
   "cell_type": "code",
   "execution_count": 11,
   "metadata": {},
   "outputs": [],
   "source": [
    "class ArtmModel(nn.Module):\n",
    "    def __init__(self, vocab_size, num_topics, max_seq_len, context_size):\n",
    "        super().__init__()\n",
    "\n",
    "        self.ctx_len = context_size\n",
    "        self.seq_len = max_seq_len\n",
    "        self.context_coeffs = self._construct_context_coeff_matrix()\n",
    "\n",
    "        self.phi = nn.Embedding(num_embeddings=vocab_size, embedding_dim=num_topics)\n",
    "        torch.nn.init.uniform_(self.phi.weight.data, a=0.0, b=1.0)\n",
    "\n",
    "    def _construct_context_coeff_matrix(self) -> torch.Tensor:\n",
    "        gamma = 1 / self.ctx_len\n",
    "\n",
    "        # construct tril matrix (suffix context)\n",
    "        tril_matrix = torch.zeros(self.seq_len, self.seq_len)\n",
    "        for i in torch.arange(1, self.ctx_len + 1):\n",
    "            tril_matrix[torch.arange(i, self.seq_len), torch.arange(self.seq_len - i)] = gamma * (1 - gamma) ** i\n",
    "\n",
    "        # contstruct full matrix (self + prefix + suffix context)\n",
    "        full_matrix = torch.eye(tril_matrix.size(0)) * gamma + tril_matrix + tril_matrix.T\n",
    "\n",
    "        # normalize weights and transpose\n",
    "        full_matrix /= full_matrix.sum(dim=0)\n",
    "        full_matrix = full_matrix.T\n",
    "        return full_matrix\n",
    "\n",
    "    def forward(self, inputs):\n",
    "        x = self.phi(inputs)  # (batch_size, seq_len, num_topics)\n",
    "        C = self.context_coeffs @ x  # (batch_size, seq_len, num_topics)\n",
    "        "
   ]
  },
  {
   "cell_type": "code",
   "execution_count": 13,
   "metadata": {},
   "outputs": [
    {
     "data": {
      "image/png": "[encoded data removed]",
      "text/plain": [
       "<Figure size 640x480 with 2 Axes>"
      ]
     },
     "metadata": {},
     "output_type": "display_data"
    }
   ],
   "source": [
    "cf = ArtmModel(5, 10, 20, 8).context_coeffs\n",
    "sns.heatmap(cf)\n",
    "plt.show()"
   ]
  },
  {
   "cell_type": "code",
   "execution_count": null,
   "metadata": {},
   "outputs": [],
   "source": [
    "class UnitSimplexProjectionOptimizer(torch.optim.Optimizer):\n",
    "    def __init__(self, params, eps=1e-8):\n",
    "        super().__init__(params, defaults={'eps': eps})\n",
    "\n",
    "        self._eps = eps\n",
    "\n",
    "    def _norm(self, x: torch.Tensor) -> torch.Tensor:\n",
    "        # take x+ = max(x, 0) element-wise (perform projection on positive simplex)\n",
    "        x = torch.maximum(x, torch.zeros_like(x))\n",
    "        # normalize values in non-zero rows to 1 (mapping from the positive simplex to the unit simplex)\n",
    "        norm = x.sum(dim=0)\n",
    "        x[norm > self._eps] /= norm[norm > self._eps]\n",
    "        return x\n",
    "\n",
    "    def step(self):\n",
    "        for group in self.param_groups:\n",
    "            for param in group['params']:\n",
    "                param.data = self._norm(param.data * param.grad.data)"
   ]
  },
  {
   "cell_type": "code",
   "execution_count": null,
   "metadata": {},
   "outputs": [],
   "source": []
  }
 ],
 "metadata": {
  "kernelspec": {
   "display_name": "topic-modelling-attention-srLx0cG6-py3.12",
   "language": "python",
   "name": "python3"
  },
  "language_info": {
   "codemirror_mode": {
    "name": "ipython",
    "version": 3
   },
   "file_extension": ".py",
   "mimetype": "text/x-python",
   "name": "python",
   "nbconvert_exporter": "python",
   "pygments_lexer": "ipython3",
   "version": "3.12.5"
  }
 },
 "nbformat": 4,
 "nbformat_minor": 2
}
